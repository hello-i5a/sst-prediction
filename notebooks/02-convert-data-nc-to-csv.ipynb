{
 "cells": [
  {
   "cell_type": "code",
   "execution_count": 18,
   "id": "27c16e96",
   "metadata": {},
   "outputs": [],
   "source": [
    "import os\n",
    "import xarray as xr\n",
    "import numpy as np\n",
    "import pandas as pd"
   ]
  },
  {
   "cell_type": "code",
   "execution_count": 19,
   "id": "7ab3c6bf",
   "metadata": {},
   "outputs": [],
   "source": [
    "# Directory containing the downloaded .nc files\n",
    "download_dir = \"../data/raw\"\n",
    "\n",
    "# Directory to save the converted CSV files\n",
    "csv_dir = \"../data/interim\"\n",
    "\n",
    "# Ensure the CSV directory exists\n",
    "os.makedirs(csv_dir, exist_ok=True)"
   ]
  },
  {
   "cell_type": "code",
   "execution_count": 20,
   "id": "a40a8740",
   "metadata": {},
   "outputs": [],
   "source": [
    "def convert_nc_to_csv(nc_file_path, csv_file_path):\n",
    "    try:\n",
    "        ds = xr.open_dataset(nc_file_path)\n",
    "\n",
    "        # Select `sst` variable\n",
    "        # Filter data according to `lat` and `lon` coordinates\n",
    "        sst = ds[\"sst\"].sel(lat=slice(5, 20), lon=slice(127, 146))\n",
    "\n",
    "        # Accessing the coordinate values\n",
    "        sst_values = sst.values.flatten() # Flattening the array to 1D\n",
    "        lat_values = sst.coords[\"lat\"].values\n",
    "        lon_values = sst.coords[\"lon\"].values\n",
    "        time_values = sst.coords[\"time\"].values\n",
    "\n",
    "        # Repeat lat and lon values to match the flattened array length\n",
    "        lat_values_repeated = np.repeat(lat_values, len(lon_values))\n",
    "        lon_values_repeated = np.tile(lon_values, len(lat_values))\n",
    "\n",
    "        # Repeat time values to match the flattened array length\n",
    "        time_values_repeated = np.repeat(time_values, len(lat_values) * len(lon_values))\n",
    "\n",
    "        # Create DataFrame\n",
    "        data = {\n",
    "            \"time\": time_values_repeated,\n",
    "            \"lat\": lat_values_repeated,\n",
    "            \"lon\": lon_values_repeated,\n",
    "            \"sst\": sst_values\n",
    "        }\n",
    "        df = pd.DataFrame(data)\n",
    "        df.to_csv(csv_file_path, index=False)\n",
    "        print(f\"CSV file '{csv_file_path}' has been created.\")\n",
    "    except Exception as e:\n",
    "        print(f\"Error processing {nc_file_path}: {e}\")\n"
   ]
  },
  {
   "cell_type": "code",
   "execution_count": 21,
   "id": "dfab3dfc",
   "metadata": {},
   "outputs": [
    {
     "name": "stdout",
     "output_type": "stream",
     "text": [
      "CSV file '../data/interim\\oisst-avhrr-v02r01.20240101.csv' has been created.\n",
      "CSV file '../data/interim\\oisst-avhrr-v02r01.20240102.csv' has been created.\n",
      "CSV file '../data/interim\\oisst-avhrr-v02r01.20240103.csv' has been created.\n",
      "CSV file '../data/interim\\oisst-avhrr-v02r01.20240104.csv' has been created.\n",
      "CSV file '../data/interim\\oisst-avhrr-v02r01.20240105.csv' has been created.\n",
      "CSV file '../data/interim\\oisst-avhrr-v02r01.20240201.csv' has been created.\n",
      "CSV file '../data/interim\\oisst-avhrr-v02r01.20240202.csv' has been created.\n",
      "CSV file '../data/interim\\oisst-avhrr-v02r01.20240203.csv' has been created.\n",
      "CSV file '../data/interim\\oisst-avhrr-v02r01.20240204.csv' has been created.\n",
      "CSV file '../data/interim\\oisst-avhrr-v02r01.20240205.csv' has been created.\n",
      "CSV file '../data/interim\\oisst-avhrr-v02r01.20240301.csv' has been created.\n",
      "CSV file '../data/interim\\oisst-avhrr-v02r01.20240302.csv' has been created.\n",
      "CSV file '../data/interim\\oisst-avhrr-v02r01.20240303.csv' has been created.\n",
      "CSV file '../data/interim\\oisst-avhrr-v02r01.20240304.csv' has been created.\n",
      "CSV file '../data/interim\\oisst-avhrr-v02r01.20240305.csv' has been created.\n",
      "CSV file '../data/interim\\oisst-avhrr-v02r01.20250101.csv' has been created.\n",
      "CSV file '../data/interim\\oisst-avhrr-v02r01.20250102.csv' has been created.\n",
      "CSV file '../data/interim\\oisst-avhrr-v02r01.20250103.csv' has been created.\n",
      "CSV file '../data/interim\\oisst-avhrr-v02r01.20250104.csv' has been created.\n",
      "CSV file '../data/interim\\oisst-avhrr-v02r01.20250105.csv' has been created.\n",
      "CSV file '../data/interim\\oisst-avhrr-v02r01.20250201.csv' has been created.\n",
      "CSV file '../data/interim\\oisst-avhrr-v02r01.20250202.csv' has been created.\n",
      "CSV file '../data/interim\\oisst-avhrr-v02r01.20250203.csv' has been created.\n",
      "CSV file '../data/interim\\oisst-avhrr-v02r01.20250204.csv' has been created.\n",
      "CSV file '../data/interim\\oisst-avhrr-v02r01.20250205.csv' has been created.\n",
      "CSV file '../data/interim\\oisst-avhrr-v02r01.20250301.csv' has been created.\n",
      "CSV file '../data/interim\\oisst-avhrr-v02r01.20250302.csv' has been created.\n",
      "CSV file '../data/interim\\oisst-avhrr-v02r01.20250303.csv' has been created.\n",
      "CSV file '../data/interim\\oisst-avhrr-v02r01.20250304.csv' has been created.\n",
      "CSV file '../data/interim\\oisst-avhrr-v02r01.20250305.csv' has been created.\n"
     ]
    }
   ],
   "source": [
    "# Iterate over each .nc file in the download directory\n",
    "def convert_all_nc_in_directory(download_dir, csv_dir):\n",
    "    os.makedirs(csv_dir, exist_ok=True)\n",
    "    for file_name in os.listdir(download_dir):\n",
    "        if file_name.endswith(\".nc\"):\n",
    "            nc_file_path = os.path.join(download_dir, file_name)\n",
    "            csv_file_path = os.path.join(csv_dir, file_name.replace(\".nc\", \".csv\"))\n",
    "            convert_nc_to_csv(nc_file_path, csv_file_path)\n",
    "\n",
    "convert_all_nc_in_directory(download_dir, csv_dir)"
   ]
  }
 ],
 "metadata": {
  "kernelspec": {
   "display_name": "dl",
   "language": "python",
   "name": "python3"
  },
  "language_info": {
   "codemirror_mode": {
    "name": "ipython",
    "version": 3
   },
   "file_extension": ".py",
   "mimetype": "text/x-python",
   "name": "python",
   "nbconvert_exporter": "python",
   "pygments_lexer": "ipython3",
   "version": "3.9.18"
  }
 },
 "nbformat": 4,
 "nbformat_minor": 5
}
