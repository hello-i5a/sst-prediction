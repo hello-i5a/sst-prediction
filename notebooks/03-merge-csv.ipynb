{
 "cells": [
  {
   "cell_type": "code",
   "execution_count": 1,
   "id": "d80cfb08",
   "metadata": {},
   "outputs": [],
   "source": [
    "import os\n",
    "import re\n",
    "import pandas as pd"
   ]
  },
  {
   "cell_type": "code",
   "execution_count": 2,
   "id": "ff4de172",
   "metadata": {},
   "outputs": [],
   "source": [
    "def extract_year(file_name):\n",
    "    match = re.search(r'\\d{4}', file_name)\n",
    "    return match.group(0) if match else None"
   ]
  },
  {
   "cell_type": "code",
   "execution_count": 3,
   "id": "ca61f1b9",
   "metadata": {},
   "outputs": [],
   "source": [
    "def merge_csvs_by_year(csv_dir, merged_csv_dir):\n",
    "    os.makedirs(merged_csv_dir, exist_ok=True)\n",
    "    dataframes_by_year = {}\n",
    "\n",
    "    for file_name in os.listdir(csv_dir):\n",
    "        if file_name.endswith(\".csv\"):\n",
    "            year = extract_year(file_name)\n",
    "            if year:\n",
    "                file_path = os.path.join(csv_dir, file_name)\n",
    "                try:\n",
    "                    df = pd.read_csv(file_path)\n",
    "                    dataframes_by_year.setdefault(year, []).append(df)\n",
    "                except Exception as e:\n",
    "                    print(f\"Error reading {file_path}: {e}\")\n",
    "\n",
    "    for year, dfs in dataframes_by_year.items():\n",
    "        if dfs:\n",
    "            merged_df = pd.concat(dfs, ignore_index=True)\n",
    "            output_path = os.path.join(merged_csv_dir, f\"merged_data_{year}.csv\")\n",
    "            merged_df.to_csv(output_path, index=False)\n",
    "            print(f\"Merged CSV for year {year} created at '{output_path}'\")\n",
    "        else:\n",
    "            print(f\"No valid data for year {year}.\")"
   ]
  },
  {
   "cell_type": "code",
   "execution_count": 4,
   "id": "ab13ccad",
   "metadata": {},
   "outputs": [],
   "source": [
    "def merge_all_yearly_csvs(csv_dir, merged_output_path):\n",
    "    os.makedirs(os.path.dirname(merged_output_path), exist_ok=True)\n",
    "    dataframes = []\n",
    "\n",
    "    for file_name in os.listdir(csv_dir):\n",
    "        if file_name.endswith(\".csv\"):\n",
    "            file_path = os.path.join(csv_dir, file_name)\n",
    "            try:\n",
    "                df = pd.read_csv(file_path)\n",
    "                dataframes.append(df)\n",
    "            except Exception as e:\n",
    "                print(f\"Error reading {file_path}: {e}\")\n",
    "\n",
    "    if dataframes:\n",
    "        merged_df = pd.concat(dataframes, ignore_index=True)\n",
    "        merged_df.to_csv(merged_output_path, index=False)\n",
    "        print(f\"Final merged CSV created at '{merged_output_path}'\")\n",
    "    else:\n",
    "        print(\"No CSVs found to merge.\")"
   ]
  },
  {
   "cell_type": "code",
   "execution_count": null,
   "id": "b6b63104",
   "metadata": {},
   "outputs": [],
   "source": [
    "merge_csvs_by_year(\"../data/interim\", \"../data/interim\")\n",
    "\n",
    "merge_all_yearly_csvs(\"../data/interim\", \"../data/processed/dataset.csv\")\n"
   ]
  }
 ],
 "metadata": {
  "kernelspec": {
   "display_name": "dl",
   "language": "python",
   "name": "python3"
  },
  "language_info": {
   "codemirror_mode": {
    "name": "ipython",
    "version": 3
   },
   "file_extension": ".py",
   "mimetype": "text/x-python",
   "name": "python",
   "nbconvert_exporter": "python",
   "pygments_lexer": "ipython3",
   "version": "3.9.18"
  }
 },
 "nbformat": 4,
 "nbformat_minor": 5
}
