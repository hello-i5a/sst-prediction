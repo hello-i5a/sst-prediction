{
 "cells": [
  {
   "cell_type": "code",
   "execution_count": null,
   "id": "992cf475",
   "metadata": {},
   "outputs": [],
   "source": [
    "import pandas as pd\n",
    "import matplotlib.pyplot as plt\n",
    "import os"
   ]
  },
  {
   "cell_type": "code",
   "execution_count": null,
   "id": "b7ab9596",
   "metadata": {},
   "outputs": [],
   "source": [
    "df = pd.read_csv(\"../data/processed/gridded-dataset.csv\")\n",
    "df['time'] = pd.to_datetime(df['time']) # Convert `time` to `datetime`\n",
    "df['date'] = df['time'].dt.strftime('%m-%d-%Y') # Extract only the date part and format it\n",
    "df.drop(columns='time', inplace=True)\n",
    "df['date'] = pd.to_datetime(df['date'], format='%m-%d-%Y')\n",
    "df = df[['date', 'lat', 'lon', 'sst']]\n",
    "df.set_index(['date', 'lat', 'lon'], inplace=True)"
   ]
  },
  {
   "cell_type": "code",
   "execution_count": null,
   "id": "0d1ac703",
   "metadata": {},
   "outputs": [],
   "source": [
    "print(df)"
   ]
  },
  {
   "cell_type": "code",
   "execution_count": null,
   "id": "37293e8a",
   "metadata": {},
   "outputs": [],
   "source": [
    "print(df.shape)"
   ]
  },
  {
   "cell_type": "code",
   "execution_count": null,
   "id": "88501277",
   "metadata": {},
   "outputs": [],
   "source": [
    "print(df.index)"
   ]
  },
  {
   "cell_type": "code",
   "execution_count": null,
   "id": "036a0581",
   "metadata": {},
   "outputs": [],
   "source": [
    "# Aggregate SST by computing daily average\n",
    "df_reset = df.reset_index()\n",
    "daily_avg_sst = df_reset.groupby('date')['sst'].mean().reset_index()\n",
    "daily_avg_sst.sort_values('date', inplace=True)"
   ]
  },
  {
   "cell_type": "code",
   "execution_count": null,
   "id": "26c7c993",
   "metadata": {},
   "outputs": [],
   "source": [
    "print(daily_avg_sst)"
   ]
  },
  {
   "cell_type": "code",
   "execution_count": null,
   "id": "14f54879",
   "metadata": {},
   "outputs": [],
   "source": [
    "# Plot the daily average SST\n",
    "plt.figure(figsize=(10, 6))\n",
    "plt.plot(daily_avg_sst['date'], daily_avg_sst['sst'], label='Daily Average SST', color='b')\n",
    "plt.xlabel('Date')\n",
    "plt.ylabel('Sea Surface Temperature (°C)')\n",
    "plt.title('Daily Average SST')\n",
    "plt.legend()\n",
    "plt.xticks(rotation=45)\n",
    "plt.tight_layout()\n",
    "plt.show()"
   ]
  },
  {
   "cell_type": "code",
   "execution_count": null,
   "id": "2fb7b3d1",
   "metadata": {},
   "outputs": [],
   "source": [
    "os.makedirs(\"../data/processed\", exist_ok=True)\n",
    "daily_avg_sst.to_csv(\"../data/processed/aggregated-dataset.csv\", index=False)"
   ]
  }
 ],
 "metadata": {
  "kernelspec": {
   "display_name": "dl",
   "language": "python",
   "name": "python3"
  },
  "language_info": {
   "codemirror_mode": {
    "name": "ipython",
    "version": 3
   },
   "file_extension": ".py",
   "mimetype": "text/x-python",
   "name": "python",
   "nbconvert_exporter": "python",
   "pygments_lexer": "ipython3",
   "version": "3.9.18"
  }
 },
 "nbformat": 4,
 "nbformat_minor": 5
}
